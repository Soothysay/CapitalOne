{
 "cells": [
  {
   "cell_type": "code",
   "execution_count": 1,
   "metadata": {},
   "outputs": [],
   "source": [
    "import numpy as np\n",
    "import pandas as pd\n",
    "import matplotlib.pyplot as plt\n",
    "import seaborn as sns\n",
    "from sklearn.preprocessing import LabelEncoder\n",
    "from sklearn.preprocessing import StandardScaler\n",
    "from models import dt as model"
   ]
  },
  {
   "cell_type": "code",
   "execution_count": 2,
   "metadata": {},
   "outputs": [],
   "source": [
    "df=pd.read_csv('data/transactions_processed_noreversed_method2_no_multi_swipe_3.csv', parse_dates=['transactionDateTime','currentExpDate','accountOpenDate','dateOfLastAddressChange'])"
   ]
  },
  {
   "cell_type": "markdown",
   "metadata": {},
   "source": [
    "# Feature Creation\n",
    "\n",
    "Some ideas from https://github.com/Alisaahy/Fraud-Detection-Project/blob/74f569b2d13c2b408150b4175b3fef2f7cf01dd7/ML_project_Fraud_detection.ipynb "
   ]
  },
  {
   "cell_type": "code",
   "execution_count": 3,
   "metadata": {},
   "outputs": [],
   "source": [
    "# Conversion of the datatype as we will do some datetime operations\n",
    "df['transactionDateTime'] = pd.to_datetime(df['transactionDateTime'])\n",
    "df['currentExpDate'] = pd.to_datetime(df['currentExpDate'])\n",
    "df['accountOpenDate'] = pd.to_datetime(df['accountOpenDate'])\n",
    "df['dateOfLastAddressChange'] = pd.to_datetime(df['dateOfLastAddressChange'])\n",
    "df = df.drop(['cardCVV','cardLast4Digits'], axis=1)\n",
    "df=df.sort_values(by=['customerId','transactionDateTime'])\n",
    "# Are the transactions in the same country\n",
    "df['sameCountry'] = (df.acqCountry == df.merchantCountryCode).astype(int)\n",
    "df = df.drop(['acqCountry', 'merchantCountryCode'], axis=1)\n",
    "# Convert datetime to time span (days)\n",
    "df['expTime'] = ((df.currentExpDate - df.transactionDateTime) / np.timedelta64(1, 'D'))\n",
    "df['openTime'] = ((df.transactionDateTime - df.accountOpenDate) / np.timedelta64(1, 'D'))\n",
    "df['changeAddTime'] = ((df.transactionDateTime - df.dateOfLastAddressChange) / np.timedelta64(1, 'D'))\n",
    "df = df.drop(['currentExpDate', 'accountOpenDate', 'dateOfLastAddressChange'], axis=1)\n"
   ]
  },
  {
   "cell_type": "code",
   "execution_count": 4,
   "metadata": {},
   "outputs": [
    {
     "data": {
      "text/plain": [
       "Index(['customerId', 'creditLimit', 'availableMoney', 'transactionDateTime',\n",
       "       'transactionAmount', 'merchantName', 'posEntryMode', 'posConditionCode',\n",
       "       'merchantCategoryCode', 'transactionType', 'currentBalance',\n",
       "       'cardPresent', 'expirationDateKeyInMatch', 'isFraud', 'sameCountry',\n",
       "       'expTime', 'openTime', 'changeAddTime'],\n",
       "      dtype='object')"
      ]
     },
     "execution_count": 4,
     "metadata": {},
     "output_type": "execute_result"
    }
   ],
   "source": [
    "df.columns"
   ]
  },
  {
   "cell_type": "code",
   "execution_count": 5,
   "metadata": {},
   "outputs": [
    {
     "name": "stdout",
     "output_type": "stream",
     "text": [
      "<class 'pandas.core.frame.DataFrame'>\n",
      "Int64Index: 712790 entries, 477123 to 95524\n",
      "Data columns (total 18 columns):\n",
      " #   Column                    Non-Null Count   Dtype         \n",
      "---  ------                    --------------   -----         \n",
      " 0   customerId                712790 non-null  int64         \n",
      " 1   creditLimit               712790 non-null  int64         \n",
      " 2   availableMoney            712790 non-null  float64       \n",
      " 3   transactionDateTime       712790 non-null  datetime64[ns]\n",
      " 4   transactionAmount         712790 non-null  float64       \n",
      " 5   merchantName              712790 non-null  object        \n",
      " 6   posEntryMode              712790 non-null  int64         \n",
      " 7   posConditionCode          712790 non-null  int64         \n",
      " 8   merchantCategoryCode      712790 non-null  object        \n",
      " 9   transactionType           712790 non-null  object        \n",
      " 10  currentBalance            712790 non-null  float64       \n",
      " 11  cardPresent               712790 non-null  bool          \n",
      " 12  expirationDateKeyInMatch  712790 non-null  bool          \n",
      " 13  isFraud                   712790 non-null  bool          \n",
      " 14  sameCountry               712790 non-null  int64         \n",
      " 15  expTime                   712790 non-null  float64       \n",
      " 16  openTime                  712790 non-null  float64       \n",
      " 17  changeAddTime             712790 non-null  float64       \n",
      "dtypes: bool(3), datetime64[ns](1), float64(6), int64(5), object(3)\n",
      "memory usage: 89.0+ MB\n"
     ]
    }
   ],
   "source": [
    "df.info()"
   ]
  },
  {
   "cell_type": "code",
   "execution_count": 6,
   "metadata": {},
   "outputs": [],
   "source": [
    "catcols=['creditLimit','posEntryMode','posConditionCode','merchantCategoryCode','transactionType']\n",
    "labelencode=['merchantName']\n",
    "booltype=['cardPresent','expirationDateKeyInMatch','isFraud']\n",
    "le = LabelEncoder()\n",
    "for col in labelencode:\n",
    "    df[col] = le.fit_transform(df[col])\n",
    "df = pd.get_dummies(df, columns=catcols)\n",
    "df = df.drop(['transactionDateTime'], axis=1)\n",
    "df[booltype] = df[booltype].astype(int)\n"
   ]
  },
  {
   "cell_type": "markdown",
   "metadata": {},
   "source": [
    "#### I use one-hot encoding for all the catcols because of the following reasons:\n",
    "1. CreditLimit in this case is just a bin. So, if we normalize the raw values, dominance of a particular CreditLimit type might influence the normalization\n",
    "2. 'posEntryMode','posConditionCode','merchantCategoryCode','transactionType','cardPresent','expirationDateKeyInMatch' mostly have binary values or just a few more values. Again, normalization of the raw values might not be correct as the distribution of values might then influence the normalization\n",
    "3. merchantName has too many unique values, which led to me trying to use LabelEncoder on it.\n",
    "4. The boolean type columns on the other hand are converted to 0-1 values"
   ]
  },
  {
   "cell_type": "code",
   "execution_count": 7,
   "metadata": {},
   "outputs": [],
   "source": [
    "# Normalize continuous columns\n",
    "cont_col=['availableMoney', 'transactionAmount','merchantName','currentBalance','expTime', 'openTime', 'changeAddTime']\n",
    "scaler = StandardScaler()\n",
    "df[cont_col] = scaler.fit_transform(df[cont_col])\n",
    "df.to_csv('data/feature_label_data.csv', index=False)    \n",
    "df.drop(['customerId'], axis=1,inplace=True)"
   ]
  },
  {
   "cell_type": "code",
   "execution_count": 8,
   "metadata": {},
   "outputs": [],
   "source": [
    "df.to_csv('data/feature_label_data_DT.csv', index=False)"
   ]
  }
 ],
 "metadata": {
  "kernelspec": {
   "display_name": "base",
   "language": "python",
   "name": "python3"
  },
  "language_info": {
   "codemirror_mode": {
    "name": "ipython",
    "version": 3
   },
   "file_extension": ".py",
   "mimetype": "text/x-python",
   "name": "python",
   "nbconvert_exporter": "python",
   "pygments_lexer": "ipython3",
   "version": "3.8.8"
  }
 },
 "nbformat": 4,
 "nbformat_minor": 2
}
