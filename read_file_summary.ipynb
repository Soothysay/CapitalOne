{
 "cells": [
  {
   "cell_type": "code",
   "execution_count": 1,
   "metadata": {},
   "outputs": [],
   "source": [
    "import pandas as pd\n",
    "import numpy as np\n",
    "from tqdm import tqdm\n",
    "import matplotlib.pyplot as plt\n",
    "import seaborn as sns \n",
    "from utils import data_operations as do"
   ]
  },
  {
   "cell_type": "markdown",
   "metadata": {},
   "source": [
    "# Read the Dataframe from the json file"
   ]
  },
  {
   "cell_type": "code",
   "execution_count": 2,
   "metadata": {},
   "outputs": [],
   "source": [
    "path='data/transactions.txt'\n",
    "df = do.read_data(path)"
   ]
  },
  {
   "cell_type": "markdown",
   "metadata": {},
   "source": [
    "# Summarize the Data"
   ]
  },
  {
   "cell_type": "code",
   "execution_count": 3,
   "metadata": {},
   "outputs": [
    {
     "data": {
      "text/html": [
       "<div>\n",
       "<style scoped>\n",
       "    .dataframe tbody tr th:only-of-type {\n",
       "        vertical-align: middle;\n",
       "    }\n",
       "\n",
       "    .dataframe tbody tr th {\n",
       "        vertical-align: top;\n",
       "    }\n",
       "\n",
       "    .dataframe thead th {\n",
       "        text-align: right;\n",
       "    }\n",
       "</style>\n",
       "<table border=\"1\" class=\"dataframe\">\n",
       "  <thead>\n",
       "    <tr style=\"text-align: right;\">\n",
       "      <th></th>\n",
       "      <th>accountNumber</th>\n",
       "      <th>customerId</th>\n",
       "      <th>creditLimit</th>\n",
       "      <th>availableMoney</th>\n",
       "      <th>transactionAmount</th>\n",
       "      <th>cardCVV</th>\n",
       "      <th>enteredCVV</th>\n",
       "      <th>cardLast4Digits</th>\n",
       "      <th>echoBuffer</th>\n",
       "      <th>currentBalance</th>\n",
       "      <th>merchantCity</th>\n",
       "      <th>merchantState</th>\n",
       "      <th>merchantZip</th>\n",
       "      <th>posOnPremises</th>\n",
       "      <th>recurringAuthInd</th>\n",
       "    </tr>\n",
       "  </thead>\n",
       "  <tbody>\n",
       "    <tr>\n",
       "      <th>count</th>\n",
       "      <td>7.863630e+05</td>\n",
       "      <td>7.863630e+05</td>\n",
       "      <td>786363.000000</td>\n",
       "      <td>786363.000000</td>\n",
       "      <td>786363.000000</td>\n",
       "      <td>786363.000000</td>\n",
       "      <td>786363.000000</td>\n",
       "      <td>786363.000000</td>\n",
       "      <td>0.0</td>\n",
       "      <td>786363.000000</td>\n",
       "      <td>0.0</td>\n",
       "      <td>0.0</td>\n",
       "      <td>0.0</td>\n",
       "      <td>0.0</td>\n",
       "      <td>0.0</td>\n",
       "    </tr>\n",
       "    <tr>\n",
       "      <th>mean</th>\n",
       "      <td>5.372326e+08</td>\n",
       "      <td>5.372326e+08</td>\n",
       "      <td>10759.464459</td>\n",
       "      <td>6250.725369</td>\n",
       "      <td>136.985791</td>\n",
       "      <td>544.467338</td>\n",
       "      <td>544.183857</td>\n",
       "      <td>4757.417799</td>\n",
       "      <td>NaN</td>\n",
       "      <td>4508.739089</td>\n",
       "      <td>NaN</td>\n",
       "      <td>NaN</td>\n",
       "      <td>NaN</td>\n",
       "      <td>NaN</td>\n",
       "      <td>NaN</td>\n",
       "    </tr>\n",
       "    <tr>\n",
       "      <th>std</th>\n",
       "      <td>2.554211e+08</td>\n",
       "      <td>2.554211e+08</td>\n",
       "      <td>11636.174890</td>\n",
       "      <td>8880.783989</td>\n",
       "      <td>147.725569</td>\n",
       "      <td>261.524220</td>\n",
       "      <td>261.551254</td>\n",
       "      <td>2996.583810</td>\n",
       "      <td>NaN</td>\n",
       "      <td>6457.442068</td>\n",
       "      <td>NaN</td>\n",
       "      <td>NaN</td>\n",
       "      <td>NaN</td>\n",
       "      <td>NaN</td>\n",
       "      <td>NaN</td>\n",
       "    </tr>\n",
       "    <tr>\n",
       "      <th>min</th>\n",
       "      <td>1.000881e+08</td>\n",
       "      <td>1.000881e+08</td>\n",
       "      <td>250.000000</td>\n",
       "      <td>-1005.630000</td>\n",
       "      <td>0.000000</td>\n",
       "      <td>100.000000</td>\n",
       "      <td>0.000000</td>\n",
       "      <td>0.000000</td>\n",
       "      <td>NaN</td>\n",
       "      <td>0.000000</td>\n",
       "      <td>NaN</td>\n",
       "      <td>NaN</td>\n",
       "      <td>NaN</td>\n",
       "      <td>NaN</td>\n",
       "      <td>NaN</td>\n",
       "    </tr>\n",
       "    <tr>\n",
       "      <th>25%</th>\n",
       "      <td>3.301333e+08</td>\n",
       "      <td>3.301333e+08</td>\n",
       "      <td>5000.000000</td>\n",
       "      <td>1077.420000</td>\n",
       "      <td>33.650000</td>\n",
       "      <td>310.000000</td>\n",
       "      <td>310.000000</td>\n",
       "      <td>2178.000000</td>\n",
       "      <td>NaN</td>\n",
       "      <td>689.910000</td>\n",
       "      <td>NaN</td>\n",
       "      <td>NaN</td>\n",
       "      <td>NaN</td>\n",
       "      <td>NaN</td>\n",
       "      <td>NaN</td>\n",
       "    </tr>\n",
       "    <tr>\n",
       "      <th>50%</th>\n",
       "      <td>5.074561e+08</td>\n",
       "      <td>5.074561e+08</td>\n",
       "      <td>7500.000000</td>\n",
       "      <td>3184.860000</td>\n",
       "      <td>87.900000</td>\n",
       "      <td>535.000000</td>\n",
       "      <td>535.000000</td>\n",
       "      <td>4733.000000</td>\n",
       "      <td>NaN</td>\n",
       "      <td>2451.760000</td>\n",
       "      <td>NaN</td>\n",
       "      <td>NaN</td>\n",
       "      <td>NaN</td>\n",
       "      <td>NaN</td>\n",
       "      <td>NaN</td>\n",
       "    </tr>\n",
       "    <tr>\n",
       "      <th>75%</th>\n",
       "      <td>7.676200e+08</td>\n",
       "      <td>7.676200e+08</td>\n",
       "      <td>15000.000000</td>\n",
       "      <td>7500.000000</td>\n",
       "      <td>191.480000</td>\n",
       "      <td>785.000000</td>\n",
       "      <td>785.000000</td>\n",
       "      <td>7338.000000</td>\n",
       "      <td>NaN</td>\n",
       "      <td>5291.095000</td>\n",
       "      <td>NaN</td>\n",
       "      <td>NaN</td>\n",
       "      <td>NaN</td>\n",
       "      <td>NaN</td>\n",
       "      <td>NaN</td>\n",
       "    </tr>\n",
       "    <tr>\n",
       "      <th>max</th>\n",
       "      <td>9.993896e+08</td>\n",
       "      <td>9.993896e+08</td>\n",
       "      <td>50000.000000</td>\n",
       "      <td>50000.000000</td>\n",
       "      <td>2011.540000</td>\n",
       "      <td>998.000000</td>\n",
       "      <td>998.000000</td>\n",
       "      <td>9998.000000</td>\n",
       "      <td>NaN</td>\n",
       "      <td>47498.810000</td>\n",
       "      <td>NaN</td>\n",
       "      <td>NaN</td>\n",
       "      <td>NaN</td>\n",
       "      <td>NaN</td>\n",
       "      <td>NaN</td>\n",
       "    </tr>\n",
       "  </tbody>\n",
       "</table>\n",
       "</div>"
      ],
      "text/plain": [
       "       accountNumber    customerId    creditLimit  availableMoney  \\\n",
       "count   7.863630e+05  7.863630e+05  786363.000000   786363.000000   \n",
       "mean    5.372326e+08  5.372326e+08   10759.464459     6250.725369   \n",
       "std     2.554211e+08  2.554211e+08   11636.174890     8880.783989   \n",
       "min     1.000881e+08  1.000881e+08     250.000000    -1005.630000   \n",
       "25%     3.301333e+08  3.301333e+08    5000.000000     1077.420000   \n",
       "50%     5.074561e+08  5.074561e+08    7500.000000     3184.860000   \n",
       "75%     7.676200e+08  7.676200e+08   15000.000000     7500.000000   \n",
       "max     9.993896e+08  9.993896e+08   50000.000000    50000.000000   \n",
       "\n",
       "       transactionAmount        cardCVV     enteredCVV  cardLast4Digits  \\\n",
       "count      786363.000000  786363.000000  786363.000000    786363.000000   \n",
       "mean          136.985791     544.467338     544.183857      4757.417799   \n",
       "std           147.725569     261.524220     261.551254      2996.583810   \n",
       "min             0.000000     100.000000       0.000000         0.000000   \n",
       "25%            33.650000     310.000000     310.000000      2178.000000   \n",
       "50%            87.900000     535.000000     535.000000      4733.000000   \n",
       "75%           191.480000     785.000000     785.000000      7338.000000   \n",
       "max          2011.540000     998.000000     998.000000      9998.000000   \n",
       "\n",
       "       echoBuffer  currentBalance  merchantCity  merchantState  merchantZip  \\\n",
       "count         0.0   786363.000000           0.0            0.0          0.0   \n",
       "mean          NaN     4508.739089           NaN            NaN          NaN   \n",
       "std           NaN     6457.442068           NaN            NaN          NaN   \n",
       "min           NaN        0.000000           NaN            NaN          NaN   \n",
       "25%           NaN      689.910000           NaN            NaN          NaN   \n",
       "50%           NaN     2451.760000           NaN            NaN          NaN   \n",
       "75%           NaN     5291.095000           NaN            NaN          NaN   \n",
       "max           NaN    47498.810000           NaN            NaN          NaN   \n",
       "\n",
       "       posOnPremises  recurringAuthInd  \n",
       "count            0.0               0.0  \n",
       "mean             NaN               NaN  \n",
       "std              NaN               NaN  \n",
       "min              NaN               NaN  \n",
       "25%              NaN               NaN  \n",
       "50%              NaN               NaN  \n",
       "75%              NaN               NaN  \n",
       "max              NaN               NaN  "
      ]
     },
     "execution_count": 3,
     "metadata": {},
     "output_type": "execute_result"
    }
   ],
   "source": [
    "df.describe()"
   ]
  },
  {
   "cell_type": "markdown",
   "metadata": {},
   "source": [
    "#### The Data has 786363 rows and 29 columns\n",
    "#### The ranges of the important columns are:\n",
    "1. creditLimit from 250 to 50000\n",
    "2. availableMoney from -1005.63 to 50000\n",
    "3. transactionAmount from 0 to 2011.54\n",
    "4. currentBalance from 0 to 47498.81"
   ]
  },
  {
   "cell_type": "code",
   "execution_count": 4,
   "metadata": {},
   "outputs": [
    {
     "name": "stdout",
     "output_type": "stream",
     "text": [
      "<class 'pandas.core.frame.DataFrame'>\n",
      "RangeIndex: 786363 entries, 0 to 786362\n",
      "Data columns (total 29 columns):\n",
      " #   Column                    Non-Null Count   Dtype  \n",
      "---  ------                    --------------   -----  \n",
      " 0   accountNumber             786363 non-null  int64  \n",
      " 1   customerId                786363 non-null  int64  \n",
      " 2   creditLimit               786363 non-null  int64  \n",
      " 3   availableMoney            786363 non-null  float64\n",
      " 4   transactionDateTime       786363 non-null  object \n",
      " 5   transactionAmount         786363 non-null  float64\n",
      " 6   merchantName              786363 non-null  object \n",
      " 7   acqCountry                781801 non-null  object \n",
      " 8   merchantCountryCode       785639 non-null  object \n",
      " 9   posEntryMode              782309 non-null  object \n",
      " 10  posConditionCode          785954 non-null  object \n",
      " 11  merchantCategoryCode      786363 non-null  object \n",
      " 12  currentExpDate            786363 non-null  object \n",
      " 13  accountOpenDate           786363 non-null  object \n",
      " 14  dateOfLastAddressChange   786363 non-null  object \n",
      " 15  cardCVV                   786363 non-null  int64  \n",
      " 16  enteredCVV                786363 non-null  int64  \n",
      " 17  cardLast4Digits           786363 non-null  int64  \n",
      " 18  transactionType           785665 non-null  object \n",
      " 19  echoBuffer                0 non-null       float64\n",
      " 20  currentBalance            786363 non-null  float64\n",
      " 21  merchantCity              0 non-null       float64\n",
      " 22  merchantState             0 non-null       float64\n",
      " 23  merchantZip               0 non-null       float64\n",
      " 24  cardPresent               786363 non-null  bool   \n",
      " 25  posOnPremises             0 non-null       float64\n",
      " 26  recurringAuthInd          0 non-null       float64\n",
      " 27  expirationDateKeyInMatch  786363 non-null  bool   \n",
      " 28  isFraud                   786363 non-null  bool   \n",
      "dtypes: bool(3), float64(9), int64(6), object(11)\n",
      "memory usage: 158.2+ MB\n"
     ]
    }
   ],
   "source": [
    "df.info() # Types"
   ]
  },
  {
   "cell_type": "code",
   "execution_count": 5,
   "metadata": {},
   "outputs": [
    {
     "data": {
      "text/plain": [
       "accountNumber                    0\n",
       "customerId                       0\n",
       "creditLimit                      0\n",
       "availableMoney                   0\n",
       "transactionDateTime              0\n",
       "transactionAmount                0\n",
       "merchantName                     0\n",
       "acqCountry                    4562\n",
       "merchantCountryCode            724\n",
       "posEntryMode                  4054\n",
       "posConditionCode               409\n",
       "merchantCategoryCode             0\n",
       "currentExpDate                   0\n",
       "accountOpenDate                  0\n",
       "dateOfLastAddressChange          0\n",
       "cardCVV                          0\n",
       "enteredCVV                       0\n",
       "cardLast4Digits                  0\n",
       "transactionType                698\n",
       "echoBuffer                  786363\n",
       "currentBalance                   0\n",
       "merchantCity                786363\n",
       "merchantState               786363\n",
       "merchantZip                 786363\n",
       "cardPresent                      0\n",
       "posOnPremises               786363\n",
       "recurringAuthInd            786363\n",
       "expirationDateKeyInMatch         0\n",
       "isFraud                          0\n",
       "dtype: int64"
      ]
     },
     "execution_count": 5,
     "metadata": {},
     "output_type": "execute_result"
    }
   ],
   "source": [
    "df.isna().sum() # Check missing values"
   ]
  },
  {
   "cell_type": "markdown",
   "metadata": {},
   "source": [
    "# Missing Value Treatment"
   ]
  },
  {
   "cell_type": "markdown",
   "metadata": {},
   "source": [
    "### Drop Redundant Columns"
   ]
  },
  {
   "cell_type": "markdown",
   "metadata": {},
   "source": [
    "#### There are 786363 records in total with 29 columns (isFraud is the label). We can see that echoBuffer, merchantCity, merchantState, merchantZip, posOnPremises and recurringAuthInd  all have null values, and can thus be directly removed before getting into anything  "
   ]
  },
  {
   "cell_type": "code",
   "execution_count": 6,
   "metadata": {},
   "outputs": [],
   "source": [
    "df.drop(['merchantCity', 'merchantState', 'merchantZip', 'posOnPremises', 'recurringAuthInd', 'echoBuffer'], axis=1, inplace=True)"
   ]
  },
  {
   "cell_type": "code",
   "execution_count": 7,
   "metadata": {},
   "outputs": [
    {
     "name": "stdout",
     "output_type": "stream",
     "text": [
      "False    433495\n",
      "True     352868\n",
      "Name: cardPresent, dtype: int64\n"
     ]
    },
    {
     "data": {
      "text/plain": [
       "44.87342359699019"
      ]
     },
     "execution_count": 7,
     "metadata": {},
     "output_type": "execute_result"
    }
   ],
   "source": [
    "print(df.cardPresent.value_counts())\n",
    "len(df[df.cardPresent==True])/len(df)*100"
   ]
  },
  {
   "cell_type": "markdown",
   "metadata": {},
   "source": [
    "#### Non-card transactions make almost 55.23% of overall records. Now I want to see if each account number has a unique customerID or not"
   ]
  },
  {
   "cell_type": "code",
   "execution_count": 8,
   "metadata": {},
   "outputs": [
    {
     "data": {
      "text/plain": [
       "accountNumber\n",
       "100088067    1\n",
       "697287398    1\n",
       "698359563    1\n",
       "698303158    1\n",
       "698276255    1\n",
       "            ..\n",
       "400746592    1\n",
       "400361607    1\n",
       "400050532    1\n",
       "400027501    1\n",
       "999389635    1\n",
       "Name: customerId, Length: 5000, dtype: int64"
      ]
     },
     "execution_count": 8,
     "metadata": {},
     "output_type": "execute_result"
    }
   ],
   "source": [
    "df.groupby('accountNumber')['customerId'].nunique().sort_values(ascending=False)"
   ]
  },
  {
   "cell_type": "markdown",
   "metadata": {},
   "source": [
    "#### It seems that each account number has a unique customer ID, so one of these columns are redundant."
   ]
  },
  {
   "cell_type": "code",
   "execution_count": 9,
   "metadata": {},
   "outputs": [],
   "source": [
    "df.drop(['accountNumber'], axis=1, inplace=True)"
   ]
  },
  {
   "cell_type": "code",
   "execution_count": 10,
   "metadata": {},
   "outputs": [
    {
     "name": "stdout",
     "output_type": "stream",
     "text": [
      "4562\n",
      "False    4413\n",
      "True      149\n",
      "Name: isFraud, dtype: int64\n"
     ]
    },
    {
     "data": {
      "text/plain": [
       "False    773946\n",
       "True      12417\n",
       "Name: isFraud, dtype: int64"
      ]
     },
     "execution_count": 10,
     "metadata": {},
     "output_type": "execute_result"
    }
   ],
   "source": [
    "# acqCountry has a small number of missing values\n",
    "print(df['acqCountry'].isna().sum())\n",
    "# If we should drop these rows or not will depend on the distribution of isFraud in them\n",
    "print(df[df['acqCountry'].isna()]['isFraud'].value_counts())\n",
    "# Compared to overall isFraud Distribution\n",
    "df['isFraud'].value_counts()"
   ]
  },
  {
   "cell_type": "markdown",
   "metadata": {},
   "source": [
    "#### So, the overall label distribution is about 62:1 while for na values of acqCountry it is about 30:1. So it makes sense to not drop these columns to make the binary classification problem even more imbalanced and instead add a value of 'UK' (denoting unknown) for them  "
   ]
  },
  {
   "cell_type": "code",
   "execution_count": 11,
   "metadata": {},
   "outputs": [],
   "source": [
    "df['acqCountry'].fillna('UNKNOWN',inplace=True)"
   ]
  },
  {
   "cell_type": "code",
   "execution_count": 12,
   "metadata": {},
   "outputs": [
    {
     "name": "stdout",
     "output_type": "stream",
     "text": [
      "False    642\n",
      "True      82\n",
      "Name: isFraud, dtype: int64\n"
     ]
    }
   ],
   "source": [
    "# Similarly, we now look at missing values of  merchantCountryCode's isFraud distribution\n",
    "print(df[df['merchantCountryCode'].isna()]['isFraud'].value_counts())\n",
    "# Again the label distribution is much better than the overall label distribution. So, we impute 'UNKNOWN' into this \n",
    "df['merchantCountryCode'].fillna('UNKNOWN',inplace=True)"
   ]
  },
  {
   "cell_type": "markdown",
   "metadata": {},
   "source": [
    "#### Filling both these categories to be 0 as the category 0 does not exist in the data"
   ]
  },
  {
   "cell_type": "code",
   "execution_count": 13,
   "metadata": {},
   "outputs": [
    {
     "name": "stdout",
     "output_type": "stream",
     "text": [
      "False    3785\n",
      "True      269\n",
      "Name: isFraud, dtype: int64\n"
     ]
    }
   ],
   "source": [
    "# We look at posEntryMode next, and do the same treatment\n",
    "print(df[df['posEntryMode'].isna()]['isFraud'].value_counts())\n",
    "# It is better to impute value instead of dropping\n",
    "df['posEntryMode'].fillna(0,inplace=True)"
   ]
  },
  {
   "cell_type": "code",
   "execution_count": 14,
   "metadata": {},
   "outputs": [
    {
     "name": "stdout",
     "output_type": "stream",
     "text": [
      "False    387\n",
      "True      22\n",
      "Name: isFraud, dtype: int64\n"
     ]
    }
   ],
   "source": [
    "# We look at posEntryMode next, and do the same treatment\n",
    "print(df[df['posConditionCode'].isna()]['isFraud'].value_counts())\n",
    "# It is better to impute value instead of dropping\n",
    "df['posConditionCode'].fillna(0,inplace=True)"
   ]
  },
  {
   "cell_type": "code",
   "execution_count": 15,
   "metadata": {},
   "outputs": [
    {
     "name": "stdout",
     "output_type": "stream",
     "text": [
      "False    684\n",
      "True      14\n",
      "Name: isFraud, dtype: int64\n"
     ]
    }
   ],
   "source": [
    "# We look at transactionType next, and do the same treatment with UK denoting unknown\n",
    "print(df[df['transactionType'].isna()]['isFraud'].value_counts())\n",
    "# It is better to impute value instead of dropping\n",
    "df['transactionType'].fillna('UK',inplace=True)"
   ]
  },
  {
   "cell_type": "markdown",
   "metadata": {},
   "source": [
    "#### Now, we will try to figure out the other categorical variables in the data and try to find their statistics "
   ]
  },
  {
   "cell_type": "markdown",
   "metadata": {},
   "source": [
    "# Categorical Value Treatment"
   ]
  },
  {
   "cell_type": "code",
   "execution_count": 16,
   "metadata": {},
   "outputs": [
    {
     "data": {
      "text/plain": [
       "customerId                    5000\n",
       "creditLimit                     10\n",
       "availableMoney              521915\n",
       "transactionDateTime         776637\n",
       "transactionAmount            66038\n",
       "merchantName                  2490\n",
       "acqCountry                       5\n",
       "merchantCountryCode              5\n",
       "posEntryMode                     6\n",
       "posConditionCode                 4\n",
       "merchantCategoryCode            19\n",
       "currentExpDate                 165\n",
       "accountOpenDate               1820\n",
       "dateOfLastAddressChange       2184\n",
       "cardCVV                        899\n",
       "enteredCVV                     976\n",
       "cardLast4Digits               5245\n",
       "transactionType                  4\n",
       "currentBalance              487318\n",
       "cardPresent                      2\n",
       "expirationDateKeyInMatch         2\n",
       "isFraud                          2\n",
       "dtype: int64"
      ]
     },
     "execution_count": 16,
     "metadata": {},
     "output_type": "execute_result"
    }
   ],
   "source": [
    "df.nunique()"
   ]
  },
  {
   "cell_type": "markdown",
   "metadata": {},
   "source": [
    "#### This shows that creditLimit, acqCountry, merchantCountryCode, posEntryMode, posConditionCode, merchantCategoryCode, cardPresent and expirationDateKeyInMatch are also categorical feature columns. Let us dive deeper into them"
   ]
  },
  {
   "cell_type": "code",
   "execution_count": 17,
   "metadata": {},
   "outputs": [
    {
     "name": "stdout",
     "output_type": "stream",
     "text": [
      "creditLimit Distribution:\n",
      "   creditLimit   Count\n",
      "0         5000  201863\n",
      "1        15000  139307\n",
      "2         7500   97913\n",
      "3         2500   75429\n",
      "4        20000   68629\n",
      "5        10000   56889\n",
      "6        50000   48781\n",
      "7         1000   36430\n",
      "8          250   34025\n",
      "9          500   27097\n",
      "acqCountry Distribution:\n",
      "  acqCountry   Count\n",
      "0         US  774709\n",
      "1    UNKNOWN    4562\n",
      "2        MEX    3130\n",
      "3        CAN    2424\n",
      "4         PR    1538\n",
      "merchantCountryCode Distribution:\n",
      "  merchantCountryCode   Count\n",
      "0                  US  778511\n",
      "1                 MEX    3143\n",
      "2                 CAN    2426\n",
      "3                  PR    1559\n",
      "4             UNKNOWN     724\n",
      "posEntryMode Distribution:\n",
      "  posEntryMode   Count\n",
      "0           05  315035\n",
      "1           09  236481\n",
      "2           02  195934\n",
      "3           90   19576\n",
      "4           80   15283\n",
      "5            0    4054\n",
      "posConditionCode Distribution:\n",
      "  posConditionCode   Count\n",
      "0               01  628787\n",
      "1               08  149634\n",
      "2               99    7533\n",
      "3                0     409\n",
      "merchantCategoryCode Distribution:\n",
      "    merchantCategoryCode   Count\n",
      "0          online_retail  202156\n",
      "1               fastfood  112138\n",
      "2          entertainment   80098\n",
      "3                   food   75490\n",
      "4           online_gifts   66238\n",
      "5              rideshare   51136\n",
      "6                 hotels   34097\n",
      "7                   fuel   23910\n",
      "8          subscriptions   22901\n",
      "9                   auto   21651\n",
      "10                health   19092\n",
      "11         personal care   18964\n",
      "12               airline   15412\n",
      "13            mobileapps   14990\n",
      "14  online_subscriptions   11067\n",
      "15             furniture    7432\n",
      "16         food_delivery    6000\n",
      "17                   gym    2209\n",
      "18           cable/phone    1382\n",
      "cardPresent Distribution:\n",
      "  cardPresent   Count\n",
      "0       False  433495\n",
      "1        True  352868\n",
      "expirationDateKeyInMatch Distribution:\n",
      "  expirationDateKeyInMatch   Count\n",
      "0                    False  785320\n",
      "1                     True    1043\n"
     ]
    }
   ],
   "source": [
    "# Let us now look at the Frequency of each Category\n",
    "cat_cols=['creditLimit', 'acqCountry', 'merchantCountryCode', 'posEntryMode', 'posConditionCode', 'merchantCategoryCode', 'cardPresent', 'expirationDateKeyInMatch']\n",
    "for col in cat_cols:\n",
    "    print(str(col)+' Distribution:')\n",
    "    print(do.display_value_counts(df, col))"
   ]
  },
  {
   "cell_type": "code",
   "execution_count": 18,
   "metadata": {},
   "outputs": [
    {
     "data": {
      "text/plain": [
       "False    773946\n",
       "True      12417\n",
       "Name: isFraud, dtype: int64"
      ]
     },
     "execution_count": 18,
     "metadata": {},
     "output_type": "execute_result"
    }
   ],
   "source": [
    "# Check The label Distribution\n",
    "df['isFraud'].value_counts()"
   ]
  },
  {
   "cell_type": "code",
   "execution_count": 19,
   "metadata": {},
   "outputs": [
    {
     "data": {
      "text/plain": [
       "87.9"
      ]
     },
     "execution_count": 19,
     "metadata": {},
     "output_type": "execute_result"
    }
   ],
   "source": [
    "df['transactionAmount'].median()"
   ]
  },
  {
   "cell_type": "code",
   "execution_count": 20,
   "metadata": {},
   "outputs": [
    {
     "data": {
      "text/plain": [
       "7500.0"
      ]
     },
     "execution_count": 20,
     "metadata": {},
     "output_type": "execute_result"
    }
   ],
   "source": [
    "df['creditLimit'].median()"
   ]
  },
  {
   "cell_type": "markdown",
   "metadata": {},
   "source": [
    "# Exploring Correlation between the values"
   ]
  },
  {
   "cell_type": "code",
   "execution_count": 21,
   "metadata": {},
   "outputs": [
    {
     "data": {
      "image/png": "[encoded data removed]",
      "text/plain": [
       "<Figure size 864x864 with 2 Axes>"
      ]
     },
     "metadata": {
      "needs_background": "light"
     },
     "output_type": "display_data"
    }
   ],
   "source": [
    "plt.figure(figsize=(12,12))\n",
    "cor=df.corr()\n",
    "sns.heatmap(cor,annot=True,cmap=plt.cm.Blues)\n",
    "plt.savefig('figs/Correlation_heatmap.png')"
   ]
  },
  {
   "cell_type": "markdown",
   "metadata": {},
   "source": [
    "#### This shows that enteredCVV and cardCVV has high correlation. So, dropping one of them. Also, credit limit and current balance has moderate correlation, which makes sense because most credit card spenders make monthly spends as a particular linear factor of their credit limit. So, the available balance will be linear to the overall credit limit as well, explaining the strong positive correlation "
   ]
  },
  {
   "cell_type": "code",
   "execution_count": 22,
   "metadata": {},
   "outputs": [],
   "source": [
    "df.drop(['enteredCVV'],axis=1, inplace=True)"
   ]
  },
  {
   "cell_type": "code",
   "execution_count": 23,
   "metadata": {},
   "outputs": [
    {
     "data": {
      "text/plain": [
       "21"
      ]
     },
     "execution_count": 23,
     "metadata": {},
     "output_type": "execute_result"
    }
   ],
   "source": [
    "len(df.columns)"
   ]
  },
  {
   "cell_type": "code",
   "execution_count": 24,
   "metadata": {},
   "outputs": [
    {
     "data": {
      "text/plain": [
       "5000"
      ]
     },
     "execution_count": 24,
     "metadata": {},
     "output_type": "execute_result"
    }
   ],
   "source": [
    "len(df['customerId'].unique())"
   ]
  },
  {
   "cell_type": "code",
   "execution_count": 25,
   "metadata": {},
   "outputs": [
    {
     "data": {
      "text/plain": [
       "2490"
      ]
     },
     "execution_count": 25,
     "metadata": {},
     "output_type": "execute_result"
    }
   ],
   "source": [
    "len(df['merchantName'].unique())"
   ]
  },
  {
   "cell_type": "code",
   "execution_count": 26,
   "metadata": {},
   "outputs": [
    {
     "name": "stdout",
     "output_type": "stream",
     "text": [
      "2016-01-01 00:01:02\n",
      "2016-12-30 23:59:45\n"
     ]
    }
   ],
   "source": [
    "df['transactionDateTime'] = pd.to_datetime(df['transactionDateTime'])\n",
    "print(np.min(df['transactionDateTime']))\n",
    "print(np.max(df['transactionDateTime']))"
   ]
  },
  {
   "cell_type": "markdown",
   "metadata": {},
   "source": [
    "#### This shows the following insights:\n",
    "1. Most transactions have a credit limit of 5000 followed by a credit limit of 15000 and most of the transactions were from USA but the missing value imputation comes second. There is a high possibility of most of them coming from USA as well. It could be possible a good portion of the UNKNOWN transactions were based in Mexico judging by the fact that Mexico has the second highest instances in merchantCountryCode.\n",
    "2. Online retail seems to be the highest spending category in this data followed by fast-food and entertainment.\n",
    "3. Looking at the data, there are 5000 unique customer IDs with 2490 merchant Names.\n",
    "4. The label distribution is highly imbalanced, which means that using accuracy as the evaluation metric of our predictive model will not be a good one. ROC-AUC score and F-1 score will be more important.\n",
    "5. There are 786363 total records with 29 columns initially, which we have reduced to 21.\n",
    "6. The total dataset has all transactions for 1-year period from 2016/01/01 - 2016/12/30.\n",
    "\n",
    "Also, based on the summary statistics,\n",
    "\n",
    "Mean Transaction Value= 136.98 (with high standard deviation of 144)\n",
    "\n",
    "Median Transaction Value = 87.9, which means that the distribution of Transaction Amount has a right skew (As mean is greater than median).\n",
    "\n",
    "Mean Credit Limit = 10759.46 (with standard deviation of 11636.17)\n",
    "\n",
    "Median Credit Limit= 7500 (Slight left skewed distribution)."
   ]
  },
  {
   "cell_type": "code",
   "execution_count": 29,
   "metadata": {},
   "outputs": [
    {
     "data": {
      "image/png": "[encoded data removed]",
      "text/plain": [
       "<Figure size 864x864 with 2 Axes>"
      ]
     },
     "metadata": {
      "needs_background": "light"
     },
     "output_type": "display_data"
    }
   ],
   "source": [
    "plt.figure(figsize=(12,12))\n",
    "cor=df[['creditLimit','availableMoney','transactionAmount','currentBalance','isFraud']].corr()\n",
    "sns.heatmap(cor,annot=True,cmap=plt.cm.Blues)\n",
    "plt.savefig('figs/Correlation_heatmap1.png')"
   ]
  },
  {
   "cell_type": "code",
   "execution_count": 28,
   "metadata": {},
   "outputs": [],
   "source": [
    "df.to_csv('data/transactions_processed.csv',index=False) "
   ]
  }
 ],
 "metadata": {
  "kernelspec": {
   "display_name": "Python 3 (ipykernel)",
   "language": "python",
   "name": "python3"
  },
  "language_info": {
   "codemirror_mode": {
    "name": "ipython",
    "version": 3
   },
   "file_extension": ".py",
   "mimetype": "text/x-python",
   "name": "python",
   "nbconvert_exporter": "python",
   "pygments_lexer": "ipython3",
   "version": "3.8.8"
  },
  "vscode": {
   "interpreter": {
    "hash": "949777d72b0d2535278d3dc13498b2535136f6dfe0678499012e853ee9abcab1"
   }
  }
 },
 "nbformat": 4,
 "nbformat_minor": 2
}
