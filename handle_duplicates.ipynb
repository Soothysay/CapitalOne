{
 "cells": [
  {
   "cell_type": "code",
   "execution_count": 130,
   "id": "a3612b97",
   "metadata": {},
   "outputs": [],
   "source": [
    "import numpy as np\n",
    "import pandas as pd\n",
    "import matplotlib.pyplot as plt"
   ]
  },
  {
   "cell_type": "code",
   "execution_count": 131,
   "id": "cb588a86",
   "metadata": {},
   "outputs": [],
   "source": [
    "# Read the data\n",
    "df=pd.read_csv('data/transactions_processed.csv',parse_dates=['transactionDateTime','currentExpDate','accountOpenDate','dateOfLastAddressChange'])"
   ]
  },
  {
   "cell_type": "markdown",
   "id": "07463340",
   "metadata": {},
   "source": [
    "# Detection and Removal of Reversed Transactions"
   ]
  },
  {
   "cell_type": "markdown",
   "id": "51a1ea35",
   "metadata": {},
   "source": [
    "#### After manual inspection of a few instances of Purchase followed by a Reversal, I noticed the following points:\n",
    "1. All of the columns except for transactionDateTime, AvailableMoney, currentBalance and TransactionType will remain the same for a purchased transaction that is reversed.\n",
    "2. In some cases, a revered transaction does not occur immediately. We will need to ignore that case for now.\n",
    "\n",
    "#### Based on these observations, my approach to remove duplicates will be as follows:\n",
    "\n",
    "Method 1:\n",
    "1. Looking at pairs of transactions where all parameters are same except transactionDateTime, AvailableMoney, currentBalance, and TransactionType. TransactionType=PURCHASE should be followed by TransactionType=REVERSED.\n",
    "2. This should lead to a pandas dataframe with label imbalance ratio to be similar to the original label imbalance ratio.\n",
    "\n",
    "The assumption in this case is that 2 PURCHASES of the same amount from the same customer to the same merchant do not follow each other "
   ]
  },
  {
   "cell_type": "code",
   "execution_count": 132,
   "id": "afe403e3",
   "metadata": {},
   "outputs": [
    {
     "data": {
      "text/plain": [
       "False    773946\n",
       "True      12417\n",
       "Name: isFraud, dtype: int64"
      ]
     },
     "execution_count": 132,
     "metadata": {},
     "output_type": "execute_result"
    }
   ],
   "source": [
    "df['isFraud'].value_counts()"
   ]
  },
  {
   "cell_type": "code",
   "execution_count": 133,
   "id": "c362eb82",
   "metadata": {},
   "outputs": [
    {
     "data": {
      "text/plain": [
       "786363"
      ]
     },
     "execution_count": 133,
     "metadata": {},
     "output_type": "execute_result"
    }
   ],
   "source": [
    "len(df)"
   ]
  },
  {
   "cell_type": "code",
   "execution_count": 134,
   "id": "aa1fed47",
   "metadata": {},
   "outputs": [
    {
     "data": {
      "text/plain": [
       "False    769332\n",
       "True      12416\n",
       "Name: isFraud, dtype: int64"
      ]
     },
     "execution_count": 134,
     "metadata": {},
     "output_type": "execute_result"
    }
   ],
   "source": [
    "# First let us seperately store the instances of Transaction_Type as 'ADDRESS_VERIFICATION'\n",
    "df2=df[df['transactionType']=='ADDRESS_VERIFICATION']\n",
    "# Remove address verification transactions from the original dataframe  and store it in df1\n",
    "df1=df[df['transactionType']!='ADDRESS_VERIFICATION']\n",
    "cols=df.columns.tolist()\n",
    "col_rem=['transactionDateTime','AvailableMoney','currentBalance','TransactionType']\n",
    "col_take=[i for i in cols if i not in col_rem]\n",
    "df1=df1.drop_duplicates(subset=col_take,keep='first')\n",
    "df3=pd.concat([df1,df2],axis=0)\n",
    "df3['isFraud'].value_counts()"
   ]
  },
  {
   "cell_type": "code",
   "execution_count": 135,
   "id": "e59165b6",
   "metadata": {},
   "outputs": [
    {
     "data": {
      "text/plain": [
       "781748"
      ]
     },
     "execution_count": 135,
     "metadata": {},
     "output_type": "execute_result"
    }
   ],
   "source": [
    "len(df3)"
   ]
  },
  {
   "cell_type": "code",
   "execution_count": 136,
   "id": "c29a8ff9",
   "metadata": {},
   "outputs": [
    {
     "data": {
      "text/plain": [
       "108389.23999996483"
      ]
     },
     "execution_count": 136,
     "metadata": {},
     "output_type": "execute_result"
    }
   ],
   "source": [
    "df['transactionAmount'].sum()-df3['transactionAmount'].sum()"
   ]
  },
  {
   "cell_type": "markdown",
   "id": "759d4f17",
   "metadata": {},
   "source": [
    "This caused a reduction in the number of cases from 786363 to 781748. The label imbalance changed from 62.32:1 to 61.96:1\n",
    "\n",
    "So the number of transactions this method estimated were reversed was 4,615 and the total amount I estimate for reversed transactions is about $108,389.239."
   ]
  },
  {
   "cell_type": "markdown",
   "id": "1e791e14",
   "metadata": {},
   "source": [
    "Method 2: There is a more crude duplicate which just notices the same amount between the same Customer ID, Merchant, one of which is a purchase and the other being a reversal (in case I am missing a trend). So, let's do that as well. "
   ]
  },
  {
   "cell_type": "code",
   "execution_count": 137,
   "id": "e1d9e9c4",
   "metadata": {},
   "outputs": [
    {
     "data": {
      "text/plain": [
       "False    705842\n",
       "True      11939\n",
       "Name: isFraud, dtype: int64"
      ]
     },
     "execution_count": 137,
     "metadata": {},
     "output_type": "execute_result"
    }
   ],
   "source": [
    "df4=df[df['transactionType']!='ADDRESS_VERIFICATION']\n",
    "df5=df4.drop_duplicates(subset=['customerId','transactionAmount', 'merchantName', 'acqCountry'],keep='first')\n",
    "df6=pd.concat([df5,df2],axis=0)\n",
    "df6['isFraud'].value_counts()"
   ]
  },
  {
   "cell_type": "code",
   "execution_count": 138,
   "id": "bcb9a56c",
   "metadata": {},
   "outputs": [
    {
     "data": {
      "text/plain": [
       "717781"
      ]
     },
     "execution_count": 138,
     "metadata": {},
     "output_type": "execute_result"
    }
   ],
   "source": [
    "len(df6)"
   ]
  },
  {
   "cell_type": "code",
   "execution_count": 139,
   "id": "24afbc82",
   "metadata": {},
   "outputs": [
    {
     "data": {
      "text/plain": [
       "5028227.269999981"
      ]
     },
     "execution_count": 139,
     "metadata": {},
     "output_type": "execute_result"
    }
   ],
   "source": [
    "df['transactionAmount'].sum()-df6['transactionAmount'].sum()"
   ]
  },
  {
   "cell_type": "markdown",
   "id": "606f4872",
   "metadata": {},
   "source": [
    "This caused a reduction in the number of cases from 786363 to 717781. The label imbalance changed from 62.32:1 to 59.12:1. \n",
    "\n",
    "So the number of transactions this method estimated were reversed was 68,582 and the total amount I estimate for reversed transactions is about $5,028,227.269"
   ]
  },
  {
   "cell_type": "markdown",
   "id": "2603338a",
   "metadata": {},
   "source": [
    "As this instance caused the label imbalance to be comparatively lesser, we would prefer this data for our modelling purposes. However, we will keep the data from earlier method as well as the query of that method seems more granular."
   ]
  },
  {
   "cell_type": "code",
   "execution_count": 140,
   "id": "eb85d02f",
   "metadata": {},
   "outputs": [],
   "source": [
    "df3.to_csv('data/transactions_processed_noreversed_method1.csv',index=False)"
   ]
  },
  {
   "cell_type": "code",
   "execution_count": 141,
   "id": "b03906af",
   "metadata": {},
   "outputs": [],
   "source": [
    "df6.to_csv('data/transactions_processed_noreversed_method2.csv',index=False)"
   ]
  },
  {
   "cell_type": "markdown",
   "id": "ebffe6b0",
   "metadata": {},
   "source": [
    "# Detection and Removal of Multi-Swipe Transactions"
   ]
  },
  {
   "cell_type": "markdown",
   "id": "1ab7185b",
   "metadata": {},
   "source": [
    "#### I plan to tackle this problem in the following way:\n",
    "1. Sort the whole dataframe by CustomerID,TransactionDateTime\n",
    "2. Then we can use group by operation in CustomerID, MerchantName, TransactionAmount \n",
    "3. Then check if the time difference between successive Transactions is less than t seconds\n",
    "\n",
    "Idea from https://stackoverflow.com/questions/56517004/mark-duplicates-based-on-time-difference-between-successive-rows"
   ]
  },
  {
   "cell_type": "code",
   "execution_count": 142,
   "id": "bad4f225",
   "metadata": {},
   "outputs": [],
   "source": [
    "df['transactionDateTime']=pd.to_datetime(df['transactionDateTime'])"
   ]
  },
  {
   "cell_type": "markdown",
   "id": "9f4a0638",
   "metadata": {},
   "source": [
    "#### In this section, we have tried to check various time periods between transactions. Namely, we tested times (in minutes):\n",
    "1. t<=1\n",
    "2. t<=2\n",
    "3. t<=3\n",
    "4. t<=4\n",
    "5. t<=5\n",
    "6. t<=6\n",
    "7. t<=7\n",
    "8. t<=8\n",
    "9. t<=9\n",
    "10. t<=10 "
   ]
  },
  {
   "cell_type": "code",
   "execution_count": 143,
   "id": "751a0d37",
   "metadata": {},
   "outputs": [],
   "source": [
    "df.sort_values(by=['customerId','transactionDateTime'],inplace=True)\n",
    "# Set a time window for identifying multi-swipe transactions (adjust as needed)\n",
    "time_window1 = pd.Timedelta(minutes=1)\n",
    "time_window2 = pd.Timedelta(minutes=2)\n",
    "time_window3 = pd.Timedelta(minutes=3)\n",
    "time_window4 = pd.Timedelta(minutes=4)\n",
    "time_window5 = pd.Timedelta(minutes=5)\n",
    "time_window6 = pd.Timedelta(minutes=6)\n",
    "time_window7 = pd.Timedelta(minutes=7)\n",
    "time_window8 = pd.Timedelta(minutes=8)\n",
    "time_window9 = pd.Timedelta(minutes=9)\n",
    "time_window10 = pd.Timedelta(minutes=10)\n",
    "multi_swipe_transactions = df[(df.duplicated(subset=['transactionAmount', 'merchantName', 'customerId'], keep=False))]\n",
    "multi_swipe_transactions_1 = multi_swipe_transactions[multi_swipe_transactions['transactionDateTime'] - multi_swipe_transactions['transactionDateTime'].shift() <= time_window1]\n",
    "multi_swipe_transactions_2 = multi_swipe_transactions[multi_swipe_transactions['transactionDateTime'] - multi_swipe_transactions['transactionDateTime'].shift() <= time_window2]\n",
    "multi_swipe_transactions_3 = multi_swipe_transactions[multi_swipe_transactions['transactionDateTime'] - multi_swipe_transactions['transactionDateTime'].shift() <= time_window3]\n",
    "multi_swipe_transactions_4 = multi_swipe_transactions[multi_swipe_transactions['transactionDateTime'] - multi_swipe_transactions['transactionDateTime'].shift() <= time_window4]\n",
    "multi_swipe_transactions_5 = multi_swipe_transactions[multi_swipe_transactions['transactionDateTime'] - multi_swipe_transactions['transactionDateTime'].shift() <= time_window5]\n",
    "multi_swipe_transactions_6 = multi_swipe_transactions[multi_swipe_transactions['transactionDateTime'] - multi_swipe_transactions['transactionDateTime'].shift() <= time_window6]\n",
    "multi_swipe_transactions_7 = multi_swipe_transactions[multi_swipe_transactions['transactionDateTime'] - multi_swipe_transactions['transactionDateTime'].shift() <= time_window7]\n",
    "multi_swipe_transactions_8 = multi_swipe_transactions[multi_swipe_transactions['transactionDateTime'] - multi_swipe_transactions['transactionDateTime'].shift() <= time_window8]\n",
    "multi_swipe_transactions_9 = multi_swipe_transactions[multi_swipe_transactions['transactionDateTime'] - multi_swipe_transactions['transactionDateTime'].shift() <= time_window9]\n",
    "multi_swipe_transactions_10 = multi_swipe_transactions[multi_swipe_transactions['transactionDateTime'] - multi_swipe_transactions['transactionDateTime'].shift() <= time_window10]"
   ]
  },
  {
   "cell_type": "code",
   "execution_count": 144,
   "id": "7e0cf9b6",
   "metadata": {},
   "outputs": [
    {
     "data": {
      "image/png": "[encoded data removed]",
      "text/plain": [
       "<Figure size 864x864 with 2 Axes>"
      ]
     },
     "metadata": {
      "needs_background": "light"
     },
     "output_type": "display_data"
    }
   ],
   "source": [
    "lengths = []\n",
    "lengths += [len(multi_swipe_transactions_i) for multi_swipe_transactions_i in [multi_swipe_transactions_1, multi_swipe_transactions_2, multi_swipe_transactions_3, multi_swipe_transactions_4, multi_swipe_transactions_5, multi_swipe_transactions_6, multi_swipe_transactions_7, multi_swipe_transactions_8, multi_swipe_transactions_9, multi_swipe_transactions_10]]\n",
    "\n",
    "# Calculate total transactionAmounts for each DataFrame\n",
    "total_amounts = []\n",
    "total_amounts += [multi_swipe_transactions_i['transactionAmount'].sum() for multi_swipe_transactions_i in [multi_swipe_transactions_1, multi_swipe_transactions_2, multi_swipe_transactions_3, multi_swipe_transactions_4, multi_swipe_transactions_5, multi_swipe_transactions_6, multi_swipe_transactions_7, multi_swipe_transactions_8, multi_swipe_transactions_9, multi_swipe_transactions_10]]\n",
    "\n",
    "# Plot histograms\n",
    "fig, ax = plt.subplots(nrows=2, ncols=1, figsize=(12, 12))\n",
    "\n",
    "# Plot histogram for DataFrame lengths\n",
    "ax[0].bar(range(10), lengths, color='skyblue')\n",
    "ax[0].set_xticks(range(10))\n",
    "ax[0].set_xticklabels([f't={i}' for i in range(1, 11)])\n",
    "ax[0].set_ylabel('DataFrame Length')\n",
    "\n",
    "# Plot histogram for total transactionAmounts\n",
    "ax[1].bar(range(10), total_amounts, color='lightcoral')\n",
    "ax[1].set_xticks(range(10))\n",
    "ax[1].set_xticklabels([f't={i}' for i in range(1, 11)])\n",
    "ax[1].set_ylabel('Total Transaction Amount')\n",
    "\n",
    "# Adjust layout\n",
    "plt.tight_layout()\n",
    "plt.savefig('figs/multi_swipe_transactions.png')"
   ]
  },
  {
   "cell_type": "code",
   "execution_count": 145,
   "id": "e27cbf15",
   "metadata": {},
   "outputs": [
    {
     "name": "stdout",
     "output_type": "stream",
     "text": [
      "2316914.42\n"
     ]
    },
    {
     "data": {
      "text/plain": [
       "18105"
      ]
     },
     "execution_count": 145,
     "metadata": {},
     "output_type": "execute_result"
    }
   ],
   "source": [
    "print(total_amounts[2])\n",
    "lengths[2]"
   ]
  },
  {
   "cell_type": "markdown",
   "id": "05b35fd2",
   "metadata": {},
   "source": [
    "#### Based on the 2 histogram plots, we can see that timedifference of at most 3 minutes might be the best threshold to classify a transaction as multi-swipe transaction.\n",
    "\n",
    "Based on that, we can see that 18,105 transactions were multi-swipe and the total amount was $2,316,914.42"
   ]
  },
  {
   "cell_type": "code",
   "execution_count": 146,
   "id": "7cc955ac",
   "metadata": {},
   "outputs": [
    {
     "name": "stdout",
     "output_type": "stream",
     "text": [
      "717781\n",
      "712790\n"
     ]
    }
   ],
   "source": [
    "print(len(df6))\n",
    "# Merge the two DataFrames with an indicator column\n",
    "merged_df = pd.merge(df6, multi_swipe_transactions_3, how='outer', indicator=True)\n",
    "\n",
    "# Filter rows that are only in df6\n",
    "df6_minus_multi_swipe_3 = merged_df[merged_df['_merge'] == 'left_only'].drop(columns=['_merge'])\n",
    "print(len(df6_minus_multi_swipe_3))"
   ]
  },
  {
   "cell_type": "markdown",
   "id": "d1ac04ee",
   "metadata": {},
   "source": [
    "#### We can see that removing the multiple swipes from the reversed transaction data of Method 2 reduces the dataframe's length from 717781 to 712790  "
   ]
  },
  {
   "cell_type": "code",
   "execution_count": 147,
   "id": "701b5d08",
   "metadata": {},
   "outputs": [],
   "source": [
    "# Save the new DataFrame\n",
    "df6_minus_multi_swipe_3.to_csv('data/transactions_processed_noreversed_method2_no_multi_swipe_3.csv', index=False)"
   ]
  },
  {
   "cell_type": "code",
   "execution_count": 148,
   "id": "2b44f009",
   "metadata": {},
   "outputs": [
    {
     "name": "stdout",
     "output_type": "stream",
     "text": [
      "781748\n",
      "763688\n"
     ]
    }
   ],
   "source": [
    "print(len(df3))\n",
    "# Merge the two DataFrames with an indicator column\n",
    "merged_df = pd.merge(df3, multi_swipe_transactions_3, how='outer', indicator=True)\n",
    "\n",
    "# Filter rows that are only in df6\n",
    "df3_minus_multi_swipe_3 = merged_df[merged_df['_merge'] == 'left_only'].drop(columns=['_merge'])\n",
    "print(len(df3_minus_multi_swipe_3))"
   ]
  },
  {
   "cell_type": "code",
   "execution_count": 149,
   "id": "ad76190f",
   "metadata": {},
   "outputs": [],
   "source": [
    "# Save the new DataFrame\n",
    "df3_minus_multi_swipe_3.to_csv('data/transactions_processed_noreversed_method1_no_multi_swipe_3.csv', index=False)"
   ]
  },
  {
   "cell_type": "markdown",
   "id": "cd2b0e49",
   "metadata": {},
   "source": [
    "#### We can see that removing the multiple swipes from the reversed transaction data of Method 1 reduces the dataframe's length from 781748 to 763688  "
   ]
  },
  {
   "cell_type": "code",
   "execution_count": 150,
   "id": "80eeb1d4",
   "metadata": {},
   "outputs": [
    {
     "name": "stderr",
     "output_type": "stream",
     "text": [
      "<ipython-input-150-80bbb9feec08>:6: SettingWithCopyWarning: \n",
      "A value is trying to be set on a copy of a slice from a DataFrame.\n",
      "Try using .loc[row_indexer,col_indexer] = value instead\n",
      "\n",
      "See the caveats in the documentation: https://pandas.pydata.org/pandas-docs/stable/user_guide/indexing.html#returning-a-view-versus-a-copy\n",
      "  purchase_reversal_pairs['transactionDateTime'] = pd.to_datetime(purchase_reversal_pairs['transactionDateTime'])\n",
      "<ipython-input-150-80bbb9feec08>:7: SettingWithCopyWarning: \n",
      "A value is trying to be set on a copy of a slice from a DataFrame.\n",
      "Try using .loc[row_indexer,col_indexer] = value instead\n",
      "\n",
      "See the caveats in the documentation: https://pandas.pydata.org/pandas-docs/stable/user_guide/indexing.html#returning-a-view-versus-a-copy\n",
      "  purchase_reversal_pairs['timeDifferenceMinutes'] = purchase_reversal_pairs.groupby(['customerId', 'transactionAmount', 'merchantName'])['transactionDateTime'].diff().dt.total_seconds() / 60\n"
     ]
    }
   ],
   "source": [
    "# Identify pairs of PURCHASE and REVERSAL transactions\n",
    "purchase_reversal_pairs = df[df.duplicated(subset=['customerId', 'transactionAmount', 'merchantName'], keep=False) &\n",
    "                              ((df['transactionType'] == 'PURCHASE') | (df['transactionType'] == 'REVERSAL'))]\n",
    "\n",
    "# Calculate the time difference in minutes\n",
    "purchase_reversal_pairs['transactionDateTime'] = pd.to_datetime(purchase_reversal_pairs['transactionDateTime'])\n",
    "purchase_reversal_pairs['timeDifferenceMinutes'] = purchase_reversal_pairs.groupby(['customerId', 'transactionAmount', 'merchantName'])['transactionDateTime'].diff().dt.total_seconds() / 60"
   ]
  },
  {
   "cell_type": "code",
   "execution_count": 151,
   "id": "475f9400",
   "metadata": {},
   "outputs": [
    {
     "data": {
      "text/plain": [
       "22.24645246322771"
      ]
     },
     "execution_count": 151,
     "metadata": {},
     "output_type": "execute_result"
    }
   ],
   "source": [
    "purchase_reversal_pairs['timeDifferenceMinutes'].mean()/60/24"
   ]
  },
  {
   "cell_type": "markdown",
   "id": "1d9ea3b1",
   "metadata": {},
   "source": [
    "# Finding Interesting stuff:\n",
    "1. For multi-swipe transactions, I found that a 3 minute time difference threshold is pretty good to identify multi-swipe transactions.\n",
    "2. On the other hand, reversed transactions typically take about 22 days and 6 hours on average"
   ]
  }
 ],
 "metadata": {
  "kernelspec": {
   "display_name": "Python 3 (ipykernel)",
   "language": "python",
   "name": "python3"
  },
  "language_info": {
   "codemirror_mode": {
    "name": "ipython",
    "version": 3
   },
   "file_extension": ".py",
   "mimetype": "text/x-python",
   "name": "python",
   "nbconvert_exporter": "python",
   "pygments_lexer": "ipython3",
   "version": "3.8.8"
  }
 },
 "nbformat": 4,
 "nbformat_minor": 5
}
